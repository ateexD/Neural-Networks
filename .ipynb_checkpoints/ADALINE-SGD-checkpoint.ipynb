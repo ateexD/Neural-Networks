{
 "cells": [
  {
   "cell_type": "code",
   "execution_count": 27,
   "metadata": {
    "collapsed": true
   },
   "outputs": [],
   "source": [
    "import numpy as np\n",
    "from sklearn.datasets import load_iris\n",
    "import pandas as pd\n",
    "import matplotlib.pyplot as plt\n",
    "from __future__ import division\n",
    "from random import seed"
   ]
  },
  {
   "cell_type": "code",
   "execution_count": 28,
   "metadata": {
    "collapsed": true
   },
   "outputs": [],
   "source": [
    "iris = load_iris()"
   ]
  },
  {
   "cell_type": "code",
   "execution_count": 29,
   "metadata": {
    "collapsed": false
   },
   "outputs": [],
   "source": [
    "X = np.array([[k[0],k[2]] for k in iris.data[:100]])\n",
    "y = iris.target\n",
    "y =  np.where(y > 0.0,1,-1)[:100]"
   ]
  },
  {
   "cell_type": "code",
   "execution_count": 30,
   "metadata": {
    "collapsed": true
   },
   "outputs": [],
   "source": [
    "class AdalineSGD(object):\n",
    "    def __init__(self,eta = 0.01,n_iter=10,shuffle=True,\n",
    "                random_state=None):\n",
    "        self.eta = eta\n",
    "        self.n_iter = n_iter\n",
    "        self.w_initialized = False\n",
    "        self.shuffle = shuffle\n",
    "        if random_state:\n",
    "            seed(random_state)\n",
    "        \n",
    "    def fit(self,X,y):\n",
    "        self._initialize_weights(X.shape[1])\n",
    "        self.cost_ = []\n",
    "        \n",
    "        for _ in xrange(self.n_iter):\n",
    "            if self.shuffle:\n",
    "                X,y = self._shuffle(X,y)\n",
    "            cost = []\n",
    "            for xi,target in zip(X,y):\n",
    "                cost.append(self._update_weights(xi,target))\n",
    "            avg_cost = sum(cost)/len(y)\n",
    "            self.cost_.append(avg_cost)\n",
    "        return self\n",
    "    \n",
    "    def partial_fit(self, X, y):\n",
    "        \"\"\"Fit training data without reinitializing the weights\"\"\"\n",
    "        if not self.w_initialized:\n",
    "            self._initialize_weights(X.shape[1])\n",
    "        if y.ravel().shape[0] > 1:\n",
    "            for xi, target in zip(X, y):\n",
    "                self._update_weights(xi, target)\n",
    "        else:\n",
    "            self._update_weights(X, y)\n",
    "        return self\n",
    "\n",
    "    def _shuffle(self, X, y):\n",
    "        \"\"\"Shuffle training data\"\"\"\n",
    "        r = np.random.permutation(len(y))\n",
    "        return X[r], y[r]\n",
    "   \n",
    "    def _initialize_weights(self, m):\n",
    "        self.w_ = np.zeros(1 + m)\n",
    "        self.w_initialized = True\n",
    " \n",
    "    def _update_weights(self, xi, target):\n",
    "        output = self.net_input(xi)\n",
    "        error = (target - output)\n",
    "        self.w_[1:] += self.eta * xi.dot(error)\n",
    "        self.w_[0] += self.eta * error\n",
    "        cost = 0.5 * error**2\n",
    "        return cost\n",
    "\n",
    "    def net_input(self, X):\n",
    "        return np.dot(X, self.w_[1:]) + self.w_[0]\n",
    "\n",
    "    def activation(self, X):\n",
    "        return self.net_input(X)\n",
    "\n",
    "    def predict(self, X):\n",
    "        return np.where(self.activation(X) >= 0.0, 1, -1)"
   ]
  },
  {
   "cell_type": "code",
   "execution_count": 31,
   "metadata": {
    "collapsed": true
   },
   "outputs": [],
   "source": [
    "from matplotlib.colors import ListedColormap\n",
    "def plot_decision_regions(X,y,classifier,resolution=0.02):\n",
    "    markers = ('s','x','o','^','v')\n",
    "    colors = ('red','blue','lightgreen','gray','cyan')\n",
    "    #chose only two colors in this case\n",
    "    cmap = ListedColormap(colors[:len(np.unique(y))])\n",
    "    \n",
    "    x1_min, x1_max = X[:,0].min() - 1,X[:,0].max()+1\n",
    "    x2_min, x2_max = X[:,1].min() - 1,X[:,1].max()+1\n",
    "    \n",
    "    xx1,xx2 = np.meshgrid(np.arange(x1_min,x1_max,resolution),\n",
    "                          np.arange(x2_min,x2_max,resolution))\n",
    "    \n",
    "    z = classifier.predict(np.array([xx1.ravel(),xx2.ravel()]).T)\n",
    "    z = z.reshape(xx1.shape)\n",
    "    #z = X.reshape(xx1.shape)\n",
    "    plt.contourf(xx1,xx2,z,alpha=0.4,cmap = cmap)\n",
    "    \n",
    "    plt.xlim(xx1.min(),xx1.max())\n",
    "    plt.ylim(xx2.min(),xx2.max())\n",
    "    \n",
    "    for idx,cl in enumerate(np.unique(y)):\n",
    "        plt.scatter(x=X[y == cl, 0], y=X[y == cl, 1],\n",
    "                    alpha=0.8, c=cmap(idx),\n",
    "                    marker=markers[idx], label=cl)\n",
    "    "
   ]
  },
  {
   "cell_type": "code",
   "execution_count": 33,
   "metadata": {
    "collapsed": false
   },
   "outputs": [],
   "source": [
    "X_std = np.copy(X)\n",
    "X_std[:,0] = (X[:,0]-X[:,0].mean())/X[:,0].std()\n",
    "X_std[:,1] = (X[:,1]-X[:,1].mean())/X[:,1].std()\n",
    "ada = AdalineSGD(n_iter=15, eta=0.01, random_state=1)\n",
    "ada.fit(X_std, y)\n",
    "plot_decision_regions(X_std, y, classifier=ada)\n",
    "plt.title('Adaline - Stochastic Gradient Descent')\n",
    "plt.xlabel('sepal length [standardized]')\n",
    "plt.ylabel('petal length [standardized]')\n",
    "plt.legend(loc='upper left')\n",
    "plt.show()\n",
    "plt.plot(range(1,len(ada.cost_)+1),ada.cost_,marker='o')\n",
    "plt.xlabel('Epochs')\n",
    "plt.ylabel('Average Cost')\n",
    "plt.show()"
   ]
  },
  {
   "cell_type": "code",
   "execution_count": 48,
   "metadata": {
    "collapsed": true
   },
   "outputs": [],
   "source": [
    "#SSE is now decreasing at eta = 0.01"
   ]
  },
  {
   "cell_type": "code",
   "execution_count": null,
   "metadata": {
    "collapsed": true
   },
   "outputs": [],
   "source": []
  }
 ],
 "metadata": {
  "kernelspec": {
   "display_name": "Python 2",
   "language": "python",
   "name": "python2"
  },
  "language_info": {
   "codemirror_mode": {
    "name": "ipython",
    "version": 2
   },
   "file_extension": ".py",
   "mimetype": "text/x-python",
   "name": "python",
   "nbconvert_exporter": "python",
   "pygments_lexer": "ipython2",
   "version": "2.7.11"
  }
 },
 "nbformat": 4,
 "nbformat_minor": 0
}
