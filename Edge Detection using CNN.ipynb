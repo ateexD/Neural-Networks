{
 "cells": [
  {
   "cell_type": "code",
   "execution_count": 11,
   "metadata": {
    "collapsed": true
   },
   "outputs": [],
   "source": [
    "import theano\n",
    "from theano import tensor as T\n",
    "from theano.tensor.nnet import conv\n",
    "import numpy as np\n",
    "from __future__ import division"
   ]
  },
  {
   "cell_type": "code",
   "execution_count": 12,
   "metadata": {
    "collapsed": false
   },
   "outputs": [],
   "source": [
    "rng = np.random.RandomState(23455)"
   ]
  },
  {
   "cell_type": "code",
   "execution_count": 13,
   "metadata": {
    "collapsed": false
   },
   "outputs": [],
   "source": [
    "input = T.tensor4(name='input')"
   ]
  },
  {
   "cell_type": "code",
   "execution_count": 14,
   "metadata": {
    "collapsed": true
   },
   "outputs": [],
   "source": [
    "w_shp = (2,3,9,9)\n",
    "w_bound = numpy.sqrt(3*9*9)"
   ]
  },
  {
   "cell_type": "code",
   "execution_count": 19,
   "metadata": {
    "collapsed": false
   },
   "outputs": [],
   "source": [
    "# W will be shared amongst various functions\n",
    "W = theano.shared(np.asarray(\n",
    "        rng.uniform(\n",
    "        low = -1.0/w_bound,\n",
    "        high = 1.0/w_bound,\n",
    "            size = w_shp),\n",
    "        dtype = input.dtype),name='W')\n",
    "\n",
    "b_shp = (2,)\n",
    "b = theano.shared(np.asarray(rng.uniform(low=-0.5,high=0.5,\n",
    "                                         size=b_shp),\n",
    "                            dtype=input.dtype),name='b')\n",
    "conv_out = conv.conv2d(input,W)\n",
    "output = T.nnet.sigmoid(conv_out + b.dimshuffle('x',0,'x','x'))\n",
    "f = theano.function([input],output)"
   ]
  },
  {
   "cell_type": "code",
   "execution_count": 20,
   "metadata": {
    "collapsed": true
   },
   "outputs": [],
   "source": [
    "import numpy as np\n",
    "import pylab\n",
    "from PIL import Image"
   ]
  },
  {
   "cell_type": "code",
   "execution_count": 21,
   "metadata": {
    "collapsed": true
   },
   "outputs": [],
   "source": [
    "img = Image.open(open('3wolfmoon.jpg'))\n",
    "img = np.asarray(img,dtype='float64')/256\n",
    "img_ = img.transpose(2,0,1).reshape(1,3,639,516)\n",
    "filtered_img = f(img_)"
   ]
  },
  {
   "cell_type": "code",
   "execution_count": 23,
   "metadata": {
    "collapsed": true
   },
   "outputs": [],
   "source": [
    "pylab.subplot(1,3,1); pylab.axis('off');pylab.imshow(img)\n",
    "pylab.gray()\n",
    "\n",
    "pylab.subplot(1,3,2); pylab.axis('off');pylab.imshow(filtered_img\n",
    "                                                    [0,0,:,:])\n",
    "pylab.subplot(1,3,3); pylab.axis('off');pylab.imshow(filtered_img\n",
    "                                                    [0,1,:,:])\n",
    "pylab.show()\n"
   ]
  },
  {
   "cell_type": "code",
   "execution_count": null,
   "metadata": {
    "collapsed": true
   },
   "outputs": [],
   "source": []
  }
 ],
 "metadata": {
  "kernelspec": {
   "display_name": "Python 2",
   "language": "python",
   "name": "python2"
  },
  "language_info": {
   "codemirror_mode": {
    "name": "ipython",
    "version": 2
   },
   "file_extension": ".py",
   "mimetype": "text/x-python",
   "name": "python",
   "nbconvert_exporter": "python",
   "pygments_lexer": "ipython2",
   "version": "2.7.11"
  }
 },
 "nbformat": 4,
 "nbformat_minor": 0
}
